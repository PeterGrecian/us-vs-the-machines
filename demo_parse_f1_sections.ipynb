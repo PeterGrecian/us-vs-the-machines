{
 "cells": [
  {
   "cell_type": "markdown",
   "id": "09fe54fa",
   "metadata": {},
   "source": [
    "# Parsing Multi-Section F1 CSV File\n",
    "\n",
    "This notebook demonstrates how to parse a multi-section F1 CSV file into separate pandas DataFrames for each section."
   ]
  },
  {
   "cell_type": "markdown",
   "id": "c2b1705b",
   "metadata": {},
   "source": [
    "## 1. Import Required Libraries\n",
    "We will use pandas for data manipulation."
   ]
  },
  {
   "cell_type": "code",
   "execution_count": null,
   "id": "92517119",
   "metadata": {},
   "outputs": [],
   "source": [
    "import pandas as pd"
   ]
  },
  {
   "cell_type": "markdown",
   "id": "02dd4ed7",
   "metadata": {},
   "source": [
    "## 2. Set the Path to the CSV File"
   ]
  },
  {
   "cell_type": "code",
   "execution_count": null,
   "id": "44ec3f98",
   "metadata": {},
   "outputs": [],
   "source": [
    "file_path = 'data/f1-20250907.csv'"
   ]
  },
  {
   "cell_type": "markdown",
   "id": "3fbfa8eb",
   "metadata": {},
   "source": [
    "## 3. Read the File as Text"
   ]
  },
  {
   "cell_type": "code",
   "execution_count": null,
   "id": "d4daa49a",
   "metadata": {},
   "outputs": [],
   "source": [
    "with open(file_path, 'r') as f:\n",
    "    lines = f.readlines()"
   ]
  },
  {
   "cell_type": "markdown",
   "id": "2d4b7ef8",
   "metadata": {},
   "source": [
    "## 4. Initialize Section Variables"
   ]
  },
  {
   "cell_type": "code",
   "execution_count": null,
   "id": "84d03f3c",
   "metadata": {},
   "outputs": [],
   "source": [
    "sections = {}\n",
    "current_section = None\n",
    "section_lines = []"
   ]
  },
  {
   "cell_type": "markdown",
   "id": "16c434fb",
   "metadata": {},
   "source": [
    "## 5. Parse Sections and Collect Data"
   ]
  },
  {
   "cell_type": "code",
   "execution_count": null,
   "id": "043a3eac",
   "metadata": {},
   "outputs": [],
   "source": [
    "for line in lines:\n",
    "    line = line.strip()\n",
    "    if not line:\n",
    "        continue\n",
    "    # Detect section header\n",
    "    if line and not line[0].isdigit() and ',' not in line:\n",
    "        if current_section and section_lines:\n",
    "            # Save previous section\n",
    "            df = pd.read_csv(pd.compat.StringIO('\\n'.join(section_lines)))\n",
    "            sections[current_section] = df\n",
    "        current_section = line\n",
    "        section_lines = []\n",
    "    elif current_section:\n",
    "        section_lines.append(line)"
   ]
  },
  {
   "cell_type": "markdown",
   "id": "130ce489",
   "metadata": {},
   "source": [
    "## 6. Save the Last Section"
   ]
  },
  {
   "cell_type": "code",
   "execution_count": null,
   "id": "9c5da769",
   "metadata": {},
   "outputs": [],
   "source": [
    "if current_section and section_lines:\n",
    "    df = pd.read_csv(pd.compat.StringIO('\\n'.join(section_lines)))\n",
    "    sections[current_section] = df"
   ]
  },
  {
   "cell_type": "markdown",
   "id": "cfa3ffd9",
   "metadata": {},
   "source": [
    "## 7. Display All DataFrames"
   ]
  },
  {
   "cell_type": "code",
   "execution_count": null,
   "id": "df82b575",
   "metadata": {},
   "outputs": [],
   "source": [
    "for name, df in sections.items():\n",
    "    print(f'\\nSection: {name}')\n",
    "    display(df)"
   ]
  },
  {
   "cell_type": "markdown",
   "id": "82d3e6e2",
   "metadata": {},
   "source": [
    "## 8. (Optional) Access a Specific Section\n",
    "You can access a DataFrame for a specific section by its name, e.g. `sections['Gemini']`."
   ]
  },
  {
   "cell_type": "code",
   "execution_count": null,
   "id": "edf9ebd3",
   "metadata": {},
   "outputs": [],
   "source": [
    "# Example: Access Gemini section\n",
    "gemini_df = sections.get('Gemini')\n",
    "gemini_df.head() if gemini_df is not None else 'Gemini section not found.'"
   ]
  },
  {
   "cell_type": "markdown",
   "id": "cd196b26",
   "metadata": {},
   "source": [
    "## 9. (Optional) Visualize or Analyze Data\n",
    "You can now use pandas or visualization libraries to analyze or plot the data."
   ]
  },
  {
   "cell_type": "code",
   "execution_count": null,
   "id": "f6fc823c",
   "metadata": {},
   "outputs": [],
   "source": [
    "# Example: Plot Gemini section positions\n",
    "if gemini_df is not None:\n",
    "    gemini_df.plot(x='Position', y='Driver', kind='bar', legend=False)\n",
    "else:\n",
    "    print('Gemini section not found.')"
   ]
  }
 ],
 "metadata": {
  "language_info": {
   "name": "python"
  }
 },
 "nbformat": 4,
 "nbformat_minor": 5
}
