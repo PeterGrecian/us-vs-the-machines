{
 "cells": [
  {
   "cell_type": "markdown",
   "id": "09fe54fa",
   "metadata": {},
   "source": [
    "# Parsing Multi-Section F1 CSV File\n",
    "\n",
    "This notebook demonstrates how to parse a multi-section F1 CSV file into separate pandas DataFrames for each section."
   ]
  },
  {
   "cell_type": "markdown",
   "id": "c2b1705b",
   "metadata": {},
   "source": [
    "## 1. Import Required Libraries\n",
    "We will use pandas for data manipulation."
   ]
  },
  {
   "cell_type": "code",
   "execution_count": 50,
   "id": "92517119",
   "metadata": {},
   "outputs": [],
   "source": [
    "import pandas as pd\n",
    "import io\n",
    "import logging"
   ]
  },
  {
   "cell_type": "markdown",
   "id": "02dd4ed7",
   "metadata": {},
   "source": [
    "## 2. Set the Path to the CSV File"
   ]
  },
  {
   "cell_type": "code",
   "execution_count": 51,
   "id": "44ec3f98",
   "metadata": {},
   "outputs": [],
   "source": [
    "file_path = 'data/f1-20250907.csv'"
   ]
  },
  {
   "cell_type": "markdown",
   "id": "3fbfa8eb",
   "metadata": {},
   "source": [
    "## 3. Read the File as Text"
   ]
  },
  {
   "cell_type": "code",
   "execution_count": 52,
   "id": "d4daa49a",
   "metadata": {},
   "outputs": [],
   "source": [
    "with open(file_path, 'r') as f:\n",
    "    lines = f.readlines()"
   ]
  },
  {
   "cell_type": "markdown",
   "id": "2d4b7ef8",
   "metadata": {},
   "source": [
    "## 4. Initialize Section Variables"
   ]
  },
  {
   "cell_type": "code",
   "execution_count": 53,
   "id": "84d03f3c",
   "metadata": {},
   "outputs": [],
   "source": [
    "sections = {}\n",
    "current_section = None\n",
    "section_lines = []\n",
    "logging.basicConfig(level=logging.INFO, force=True)\n"
   ]
  },
  {
   "cell_type": "markdown",
   "id": "16c434fb",
   "metadata": {},
   "source": [
    "## 5. Parse Sections and Collect Data"
   ]
  },
  {
   "cell_type": "code",
   "execution_count": 54,
   "id": "043a3eac",
   "metadata": {},
   "outputs": [],
   "source": [
    "for line in lines:\n",
    "    line = line.strip()\n",
    "    if not line:\n",
    "        continue\n",
    "    # Detect section header\n",
    "\n",
    "    logging.debug(line)\n",
    "    if line and not line[0].isdigit() and ',' not in line:\n",
    "        if current_section and section_lines:\n",
    "            # Save previous section\n",
    "            df = pd.read_csv(io.StringIO('\\n'.join(section_lines)))\n",
    "            sections[current_section] = df\n",
    "        current_section = line\n",
    "        section_lines = []\n",
    "    elif current_section:\n",
    "        section_lines.append(line)"
   ]
  },
  {
   "cell_type": "markdown",
   "id": "130ce489",
   "metadata": {},
   "source": [
    "## 6. Save the Last Section"
   ]
  },
  {
   "cell_type": "code",
   "execution_count": 55,
   "id": "9c5da769",
   "metadata": {},
   "outputs": [],
   "source": [
    "if current_section and section_lines:\n",
    "    df = pd.read_csv(io.StringIO('\\n'.join(section_lines)))\n",
    "    sections[current_section] = df"
   ]
  },
  {
   "cell_type": "markdown",
   "id": "cfa3ffd9",
   "metadata": {},
   "source": [
    "## 7. Display All DataFrames"
   ]
  },
  {
   "cell_type": "code",
   "execution_count": 56,
   "id": "df82b575",
   "metadata": {},
   "outputs": [
    {
     "name": "stderr",
     "output_type": "stream",
     "text": [
      "INFO:root:\n",
      "Section: Gemini\n",
      "INFO:root:\n",
      "Section: grok\n",
      "INFO:root:\n",
      "Section: grok Think harder\n",
      "INFO:root:\n",
      "Section: copilot\n",
      "INFO:root:\n",
      "Section: co-pilot think deeper\n",
      "INFO:root:\n",
      "Section: claude\n",
      "INFO:root:\n",
      "Section: Results\n"
     ]
    }
   ],
   "source": [
    "for name, df in sections.items():\n",
    "    logging.info(f'\\nSection: {name}')\n",
    "    if logging.getLogger().isEnabledFor(logging.DEBUG):\n",
    "        logging.debug(\"\\n\" + df.to_string())\n",
    "    #display(df)"
   ]
  },
  {
   "cell_type": "markdown",
   "id": "82d3e6e2",
   "metadata": {},
   "source": [
    "## 8. (Optional) Access a Specific Section\n",
    "You can access a DataFrame for a specific section by its name, e.g. `sections['Results']`."
   ]
  },
  {
   "cell_type": "code",
   "execution_count": 57,
   "id": "edf9ebd3",
   "metadata": {},
   "outputs": [
    {
     "data": {
      "text/html": [
       "<div>\n",
       "<style scoped>\n",
       "    .dataframe tbody tr th:only-of-type {\n",
       "        vertical-align: middle;\n",
       "    }\n",
       "\n",
       "    .dataframe tbody tr th {\n",
       "        vertical-align: top;\n",
       "    }\n",
       "\n",
       "    .dataframe thead th {\n",
       "        text-align: right;\n",
       "    }\n",
       "</style>\n",
       "<table border=\"1\" class=\"dataframe\">\n",
       "  <thead>\n",
       "    <tr style=\"text-align: right;\">\n",
       "      <th></th>\n",
       "      <th>Position</th>\n",
       "      <th>DRIVER</th>\n",
       "      <th>Team</th>\n",
       "    </tr>\n",
       "  </thead>\n",
       "  <tbody>\n",
       "    <tr>\n",
       "      <th>0</th>\n",
       "      <td>1</td>\n",
       "      <td>Oscar Piastri</td>\n",
       "      <td>McLaren</td>\n",
       "    </tr>\n",
       "    <tr>\n",
       "      <th>1</th>\n",
       "      <td>2</td>\n",
       "      <td>Lando Norris</td>\n",
       "      <td>McLaren</td>\n",
       "    </tr>\n",
       "    <tr>\n",
       "      <th>2</th>\n",
       "      <td>3</td>\n",
       "      <td>Charles Leclerc</td>\n",
       "      <td>Ferrari</td>\n",
       "    </tr>\n",
       "    <tr>\n",
       "      <th>3</th>\n",
       "      <td>4</td>\n",
       "      <td>Max Verstappen</td>\n",
       "      <td>Red Bull Racing</td>\n",
       "    </tr>\n",
       "    <tr>\n",
       "      <th>4</th>\n",
       "      <td>5</td>\n",
       "      <td>Lewis Hamilton</td>\n",
       "      <td>Ferrari</td>\n",
       "    </tr>\n",
       "  </tbody>\n",
       "</table>\n",
       "</div>"
      ],
      "text/plain": [
       "   Position           DRIVER             Team\n",
       "0         1    Oscar Piastri          McLaren\n",
       "1         2     Lando Norris          McLaren\n",
       "2         3  Charles Leclerc          Ferrari\n",
       "3         4   Max Verstappen  Red Bull Racing\n",
       "4         5   Lewis Hamilton          Ferrari"
      ]
     },
     "execution_count": 57,
     "metadata": {},
     "output_type": "execute_result"
    }
   ],
   "source": [
    "# Example: Access Results section\n",
    "sections.get('grok').head()\n",
    "#Results_df = sections.get('Results')\n",
    "#Results_df.head() if Results_df is not None else 'Results section not found.'"
   ]
  },
  {
   "cell_type": "markdown",
   "id": "cd196b26",
   "metadata": {},
   "source": [
    "## 9. (Optional) Visualize or Analyze Data\n",
    "You can now use pandas or visualization libraries to analyze or plot the data."
   ]
  },
  {
   "cell_type": "code",
   "execution_count": 58,
   "id": "eb66c2dd",
   "metadata": {},
   "outputs": [
    {
     "data": {
      "text/html": [
       "<div>\n",
       "<style scoped>\n",
       "    .dataframe tbody tr th:only-of-type {\n",
       "        vertical-align: middle;\n",
       "    }\n",
       "\n",
       "    .dataframe tbody tr th {\n",
       "        vertical-align: top;\n",
       "    }\n",
       "\n",
       "    .dataframe thead th {\n",
       "        text-align: right;\n",
       "    }\n",
       "</style>\n",
       "<table border=\"1\" class=\"dataframe\">\n",
       "  <thead>\n",
       "    <tr style=\"text-align: right;\">\n",
       "      <th></th>\n",
       "      <th>POS.</th>\n",
       "      <th>NO.</th>\n",
       "      <th>DRIVER</th>\n",
       "      <th>TEAM</th>\n",
       "      <th>LAPS</th>\n",
       "      <th>TIME / RETIRED</th>\n",
       "      <th>PTS.</th>\n",
       "    </tr>\n",
       "  </thead>\n",
       "  <tbody>\n",
       "    <tr>\n",
       "      <th>0</th>\n",
       "      <td>1</td>\n",
       "      <td>1</td>\n",
       "      <td>Max Verstappen</td>\n",
       "      <td>Red Bull Racing</td>\n",
       "      <td>53</td>\n",
       "      <td>1:13:24.325</td>\n",
       "      <td>25</td>\n",
       "    </tr>\n",
       "    <tr>\n",
       "      <th>1</th>\n",
       "      <td>2</td>\n",
       "      <td>4</td>\n",
       "      <td>Lando Norris</td>\n",
       "      <td>McLaren</td>\n",
       "      <td>53</td>\n",
       "      <td>+19.207s</td>\n",
       "      <td>18</td>\n",
       "    </tr>\n",
       "    <tr>\n",
       "      <th>2</th>\n",
       "      <td>3</td>\n",
       "      <td>81</td>\n",
       "      <td>Oscar Piastri</td>\n",
       "      <td>McLaren</td>\n",
       "      <td>53</td>\n",
       "      <td>+21.351s</td>\n",
       "      <td>15</td>\n",
       "    </tr>\n",
       "    <tr>\n",
       "      <th>3</th>\n",
       "      <td>4</td>\n",
       "      <td>16</td>\n",
       "      <td>Charles Leclerc</td>\n",
       "      <td>Ferrari</td>\n",
       "      <td>53</td>\n",
       "      <td>+25.624s</td>\n",
       "      <td>12</td>\n",
       "    </tr>\n",
       "    <tr>\n",
       "      <th>4</th>\n",
       "      <td>5</td>\n",
       "      <td>63</td>\n",
       "      <td>George Russell</td>\n",
       "      <td>Mercedes</td>\n",
       "      <td>53</td>\n",
       "      <td>+32.881s</td>\n",
       "      <td>10</td>\n",
       "    </tr>\n",
       "  </tbody>\n",
       "</table>\n",
       "</div>"
      ],
      "text/plain": [
       "  POS.  NO.           DRIVER             TEAM  LAPS TIME / RETIRED  PTS.\n",
       "0    1    1   Max Verstappen  Red Bull Racing    53    1:13:24.325    25\n",
       "1    2    4     Lando Norris          McLaren    53       +19.207s    18\n",
       "2    3   81    Oscar Piastri          McLaren    53       +21.351s    15\n",
       "3    4   16  Charles Leclerc          Ferrari    53       +25.624s    12\n",
       "4    5   63   George Russell         Mercedes    53       +32.881s    10"
      ]
     },
     "execution_count": 58,
     "metadata": {},
     "output_type": "execute_result"
    }
   ],
   "source": [
    "# Example: Access Results section\n",
    "Results_df = sections.get('Results')\n",
    "Results_df.head() if Results_df is not None else 'Results section not found.'"
   ]
  },
  {
   "cell_type": "code",
   "execution_count": 60,
   "id": "3800dbfe",
   "metadata": {},
   "outputs": [
    {
     "name": "stdout",
     "output_type": "stream",
     "text": [
      "Spearman rank correlation with Results for 'grok': 0.91\n",
      "Spearman rank correlation with Results for 'Gemini': 0.83\n",
      "Spearman rank correlation with Results for 'grok Think harder': 0.76\n",
      "Spearman rank correlation with Results for 'claude': 0.64\n",
      "Spearman rank correlation with Results for 'copilot': 0.59\n",
      "Spearman rank correlation with Results for 'co-pilot think deeper': 0.59\n"
     ]
    }
   ],
   "source": [
    "from scipy.stats import spearmanr\n",
    "\n",
    "# Compare each section DataFrame with Results_df using Spearman rank correlation\n",
    "results_order = Results_df['DRIVER']\n",
    "\n",
    "spearman_scores = {}\n",
    "for name, df in sections.items():\n",
    "    if name == 'Results':\n",
    "        continue\n",
    "    # Try to get 'DRIVER' column, skip if not present\n",
    "    if 'DRIVER' in df.columns:\n",
    "        other_order = df['DRIVER']\n",
    "    elif 'Driver' in df.columns:\n",
    "        other_order = df['Driver']\n",
    "    else:\n",
    "        continue\n",
    "    # Align only drivers present in both lists\n",
    "    common_drivers = [d for d in results_order if d in other_order.values]\n",
    "    if len(common_drivers) < 2:\n",
    "        continue\n",
    "    # Get ranks for common drivers\n",
    "    results_ranks = [results_order.tolist().index(d) for d in common_drivers]\n",
    "    other_ranks = [other_order.tolist().index(d) for d in common_drivers]\n",
    "    score, _ = spearmanr(results_ranks, other_ranks)\n",
    "    spearman_scores[name] = score\n",
    "\n",
    "# Display Spearman rank correlation scores in descending order\n",
    "\n",
    "spearman_scores = dict(sorted(spearman_scores.items(), key=lambda item: item[1], reverse=True)) \n",
    "for name, score in spearman_scores.items():\n",
    "    print(f\"Spearman rank correlation with Results for '{name}': {score:.2f}\")\n",
    "\n",
    "\n"
   ]
  }
 ],
 "metadata": {
  "kernelspec": {
   "display_name": "Python 3",
   "language": "python",
   "name": "python3"
  },
  "language_info": {
   "codemirror_mode": {
    "name": "ipython",
    "version": 3
   },
   "file_extension": ".py",
   "mimetype": "text/x-python",
   "name": "python",
   "nbconvert_exporter": "python",
   "pygments_lexer": "ipython3",
   "version": "3.12.1"
  }
 },
 "nbformat": 4,
 "nbformat_minor": 5
}
